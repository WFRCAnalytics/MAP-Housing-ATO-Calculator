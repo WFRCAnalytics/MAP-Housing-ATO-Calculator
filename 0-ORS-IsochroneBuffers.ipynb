{
 "cells": [
  {
   "cell_type": "markdown",
   "id": "e768ca73",
   "metadata": {},
   "source": [
    "# Isochrone Generator from Point Layers"
   ]
  },
  {
   "cell_type": "markdown",
   "id": "aea0ceb9",
   "metadata": {},
   "source": [
    "This notebook generates isochrone buffers around point layers using OpenRouteService API."
   ]
  },
  {
   "cell_type": "markdown",
   "id": "9e64a619",
   "metadata": {},
   "source": [
    "### Import Libraries"
   ]
  },
  {
   "cell_type": "code",
   "execution_count": 2,
   "id": "47bd0d4c",
   "metadata": {},
   "outputs": [
    {
     "ename": "ModuleNotFoundError",
     "evalue": "No module named 'openrouteservice.isochrone'",
     "output_type": "error",
     "traceback": [
      "\u001b[1;31m---------------------------------------------------------------------------\u001b[0m\n",
      "\u001b[1;31mModuleNotFoundError\u001b[0m                       Traceback (most recent call last)\n",
      "Cell \u001b[1;32mIn[2], line 10\u001b[0m\n",
      "\u001b[0;32m      7\u001b[0m \u001b[38;5;28;01mfrom\u001b[39;00m\u001b[38;5;250m \u001b[39m\u001b[38;5;21;01mpathlib\u001b[39;00m\u001b[38;5;250m \u001b[39m\u001b[38;5;28;01mimport\u001b[39;00m Path\n",
      "\u001b[0;32m      9\u001b[0m \u001b[38;5;28;01mimport\u001b[39;00m\u001b[38;5;250m \u001b[39m\u001b[38;5;21;01mopenrouteservice\u001b[39;00m\u001b[38;5;250m \u001b[39m\u001b[38;5;28;01mas\u001b[39;00m\u001b[38;5;250m \u001b[39m\u001b[38;5;21;01mors\u001b[39;00m\n",
      "\u001b[1;32m---> 10\u001b[0m \u001b[38;5;28;01mfrom\u001b[39;00m\u001b[38;5;250m \u001b[39m\u001b[38;5;21;01mopenrouteservice\u001b[39;00m\u001b[38;5;21;01m.\u001b[39;00m\u001b[38;5;21;01misochrone\u001b[39;00m\u001b[38;5;250m \u001b[39m\u001b[38;5;28;01mimport\u001b[39;00m isochrone\n",
      "\u001b[0;32m     12\u001b[0m \u001b[38;5;28;01mimport\u001b[39;00m\u001b[38;5;250m \u001b[39m\u001b[38;5;21;01m_params\u001b[39;00m\u001b[38;5;250m \u001b[39m\u001b[38;5;28;01mas\u001b[39;00m\u001b[38;5;250m \u001b[39m\u001b[38;5;21;01mparams\u001b[39;00m\n",
      "\u001b[0;32m     14\u001b[0m \u001b[38;5;28;01mimport\u001b[39;00m\u001b[38;5;250m \u001b[39m\u001b[38;5;21;01mwarnings\u001b[39;00m\n",
      "\n",
      "\u001b[1;31mModuleNotFoundError\u001b[0m: No module named 'openrouteservice.isochrone'"
     ]
    }
   ],
   "source": [
    "import geopandas as gpd\n",
    "import pandas as pd\n",
    "\n",
    "import os\n",
    "import time\n",
    "\n",
    "from pathlib import Path\n",
    "\n",
    "import openrouteservice as ors\n",
    "from openrouteservice.isochrone import isochrone\n",
    "\n",
    "import _params as params\n",
    "\n",
    "import warnings\n",
    "warnings.filterwarnings('ignore')"
   ]
  },
  {
   "cell_type": "markdown",
   "id": "131dbe50",
   "metadata": {},
   "source": [
    "### Configuration"
   ]
  },
  {
   "cell_type": "code",
   "execution_count": null,
   "id": "2951249b",
   "metadata": {},
   "outputs": [],
   "source": [
    "# Set API key directly (run once, then comment out)\n",
    "# os.environ['ORS_API_KEY'] = 'your_api_key_here'\n",
    "\n",
    "# Set your OpenRouteService API key\n",
    "client = ors.Client(key=os.getenv('ORS_API_KEY'))"
   ]
  },
  {
   "cell_type": "code",
   "execution_count": null,
   "id": "55377a06",
   "metadata": {},
   "outputs": [],
   "source": [
    "# Create output folder\n",
    "isochrone_dir = Path('./isochrones')\n",
    "isochrone_dir.mkdir(exist_ok=True)"
   ]
  },
  {
   "cell_type": "markdown",
   "id": "c7fb6315",
   "metadata": {},
   "source": [
    "## Walking Isochrones"
   ]
  },
  {
   "cell_type": "markdown",
   "id": "b16b60be",
   "metadata": {},
   "source": [
    "### Load Point data for Walking Isochrones"
   ]
  },
  {
   "cell_type": "code",
   "execution_count": null,
   "id": "0e9ab2cb",
   "metadata": {},
   "outputs": [],
   "source": [
    "# List of your point layers\n",
    "points_walk = [\n",
    "    params.strTransitIn_Stops,    # Transit stops\n",
    "    params.strSchoolsIn,          # Schools\n",
    "    params.strChildCareIn,        # Childcare\n",
    "    params.strCommunityCenterIn   # Community centers\n",
    "]\n",
    "\n",
    "layers_walk = {}\n",
    "\n",
    "for file_path in points_walk:\n",
    "    try:\n",
    "        name = os.path.splitext(os.path.basename(file_path))[0]\n",
    "        gdf = gpd.read_file(file_path)\n",
    "\n",
    "        if not all(gdf.geometry.geom_type == 'Point'):\n",
    "            continue\n",
    "\n",
    "        if gdf.crs is None:\n",
    "            gdf = gdf.set_crs('EPSG:4326')\n",
    "        elif gdf.crs.to_epsg() != 4326:\n",
    "            gdf = gdf.to_crs('EPSG:4326')\n",
    "\n",
    "        layers_walk[name] = gdf\n",
    "        print(f\"Loaded {name}: {len(gdf)} points\")\n",
    "\n",
    "    except Exception as e:\n",
    "        print(f\"Error {name}: {e}\")"
   ]
  },
  {
   "cell_type": "markdown",
   "id": "424a8104",
   "metadata": {},
   "source": [
    "### Generate Walking Distance Isochrones"
   ]
  },
  {
   "cell_type": "code",
   "execution_count": null,
   "id": "0e95f0f7",
   "metadata": {},
   "outputs": [],
   "source": [
    "# Parameters\n",
    "travel_mode = 'foot-walking'\n",
    "ranges = 600  # in seconds; 10 minutes\n",
    "\n",
    "# Loop through each walking layer\n",
    "for layer_name, gdf in layers_walk.items():\n",
    "    print(f\"Processing {layer_name}...\")\n",
    "\n",
    "    # Generate isochrones\n",
    "    all_isochrones = []\n",
    "\n",
    "    for i, row in gdf.iterrows():\n",
    "        coords = [row.geometry.x, row.geometry.y]\n",
    "\n",
    "        try:\n",
    "            response = isochrone(\n",
    "                client=client,\n",
    "                locations=[coords],\n",
    "                profile=travel_mode,\n",
    "                range_type='time',\n",
    "                range=ranges\n",
    "            )\n",
    "\n",
    "            iso_gdf = gpd.GeoDataFrame.from_features(response['features'], crs='EPSG:4326')\n",
    "            iso_gdf['point_id'] = row[gdf.columns[0]]\n",
    "            all_isochrones.append(iso_gdf)\n",
    "\n",
    "        except Exception as e:\n",
    "            print(f\"Failed: {e}\")\n",
    "\n",
    "        time.sleep(2)\n",
    "\n",
    "    # Save layer\n",
    "    if all_isochrones:\n",
    "        result = pd.concat(all_isochrones, ignore_index=True)\n",
    "        filename = f\"{layer_name}_iso_{travel_mode}_{ranges//60}min.geojson\"\n",
    "        result.to_file(f\"./isochrones/{filename}\")\n",
    "        print(f\"Saved {filename}\")"
   ]
  },
  {
   "cell_type": "markdown",
   "id": "fd156b36",
   "metadata": {},
   "source": [
    "## Driving Isochrones"
   ]
  },
  {
   "cell_type": "markdown",
   "id": "e1d15110",
   "metadata": {},
   "source": [
    "### Load Point data for Driving Isochrones"
   ]
  },
  {
   "cell_type": "code",
   "execution_count": null,
   "id": "333ac1f3",
   "metadata": {},
   "outputs": [],
   "source": [
    "# Driving layers - regional destinations\n",
    "points_drive = [\n",
    "    params.strCentersIn,          # Regional centers\n",
    "    params.strGroceryIn,          # Grocery stores\n",
    "    params.strHealthCareIn        # Healthcare facilities\n",
    "]\n",
    "\n",
    "layers_drive = {}\n",
    "\n",
    "for file_path in points_drive:\n",
    "    try:\n",
    "        name = os.path.splitext(os.path.basename(file_path))[0]\n",
    "        gdf = gpd.read_file(file_path)\n",
    "\n",
    "        if not all(gdf.geometry.geom_type == 'Point'):\n",
    "            continue\n",
    "\n",
    "        if gdf.crs is None:\n",
    "            gdf = gdf.set_crs('EPSG:4326')\n",
    "        elif gdf.crs.to_epsg() != 4326:\n",
    "            gdf = gdf.to_crs('EPSG:4326')\n",
    "\n",
    "        layers_drive[name] = gdf\n",
    "        print(f\"Loaded {name}: {len(gdf)} points\")\n",
    "\n",
    "    except Exception as e:\n",
    "        print(f\"Error {name}: {e}\")"
   ]
  },
  {
   "cell_type": "markdown",
   "id": "e1b041e0",
   "metadata": {},
   "source": [
    "### Generate Driving Distance Isochrones"
   ]
  },
  {
   "cell_type": "code",
   "execution_count": null,
   "id": "6e965fac",
   "metadata": {},
   "outputs": [],
   "source": [
    "# Parameters\n",
    "travel_mode = 'driving-car'\n",
    "ranges = 600  # in seconds; 10 minutes\n",
    "\n",
    "# Loop through each driving layer\n",
    "for layer_name, gdf in layers_drive.items():\n",
    "    print(f\"Processing {layer_name}...\")\n",
    "\n",
    "    # Generate isochrones\n",
    "    all_isochrones = []\n",
    "\n",
    "    for i, row in gdf.iterrows():\n",
    "        coords = [row.geometry.x, row.geometry.y]\n",
    "\n",
    "        try:\n",
    "            response = isochrone(\n",
    "                client=client,\n",
    "                locations=[coords],\n",
    "                profile=travel_mode,\n",
    "                range_type='time',\n",
    "                range=ranges\n",
    "            )\n",
    "\n",
    "            iso_gdf = gpd.GeoDataFrame.from_features(response['features'], crs='EPSG:4326')\n",
    "            iso_gdf['point_id'] = row[gdf.columns[0]]\n",
    "            all_isochrones.append(iso_gdf)\n",
    "\n",
    "        except Exception as e:\n",
    "            print(f\"Failed: {e}\")\n",
    "\n",
    "        time.sleep(2)\n",
    "\n",
    "    # Save layer\n",
    "    if all_isochrones:\n",
    "        result = pd.concat(all_isochrones, ignore_index=True)\n",
    "        filename = f\"{layer_name}_iso_{travel_mode}_{ranges//60}min.geojson\"\n",
    "        result.to_file(f\"./isochrones/{filename}\")\n",
    "        print(f\"Saved {filename}\")\n",
    "\n",
    "print(\"Complete!\")"
   ]
  }
 ],
 "metadata": {
  "language_info": {
   "name": "python"
  }
 },
 "nbformat": 4,
 "nbformat_minor": 5
}
